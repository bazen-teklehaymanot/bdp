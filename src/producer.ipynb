{
 "cells": [
  {
   "cell_type": "markdown",
   "id": "afaa8b95",
   "metadata": {},
   "source": [
    "# Produce NY taxi trips to Kafka"
   ]
  },
  {
   "cell_type": "markdown",
   "id": "7a4a6187",
   "metadata": {},
   "source": [
    "## Setup"
   ]
  },
  {
   "cell_type": "code",
   "execution_count": 47,
   "id": "2e778584",
   "metadata": {},
   "outputs": [],
   "source": [
    "import os\n",
    "from confluent_kafka import SerializingProducer, DeserializingConsumer\n",
    "from confluent_kafka.serialization import StringSerializer, StringDeserializer\n",
    "from confluent_kafka.admin import AdminClient, NewTopic\n",
    "from uuid import uuid4\n",
    "import sys, random\n",
    "import csv, json\n",
    "import time\n",
    "from datetime import datetime "
   ]
  },
  {
   "cell_type": "code",
   "execution_count": 44,
   "id": "ef7871fb",
   "metadata": {},
   "outputs": [],
   "source": [
    "BOOTSTRAP_SERVERS = os.environ.get('BOOTSTRAP_SERVERS')\n",
    "assert BOOTSTRAP_SERVERS is not None, 'BOOTSTRAP_SERVERS must be set'\n",
    "\n",
    "STOCKS_CSV = \"sample.csv\"\n",
    "assert os.path.exists(STOCKS_CSV), f'{STOCKS_CSV} file not found'\n",
    "\n",
    "STOCKS_TOPIC = 'stocks'\n",
    "\n",
    "PRODUCER_CONFIG = {\n",
    "    'bootstrap.servers': BOOTSTRAP_SERVERS,\n",
    "    'partitioner': 'murmur2_random',\n",
    "    'key.serializer': StringSerializer('utf_8'),\n",
    "    'value.serializer':  StringSerializer('utf_8')\n",
    "}"
   ]
  },
  {
   "cell_type": "markdown",
   "id": "53e42710",
   "metadata": {},
   "source": [
    "## Utility functions"
   ]
  },
  {
   "cell_type": "code",
   "execution_count": 45,
   "id": "f78da948",
   "metadata": {},
   "outputs": [],
   "source": [
    "def get_topics():\n",
    "    global BOOTSTRAP_SERVERS\n",
    "\n",
    "    kafka_broker = {'bootstrap.servers': BOOTSTRAP_SERVERS}\n",
    "    admin_client = AdminClient(kafka_broker)\n",
    "    return admin_client.list_topics().topics\n",
    "\n",
    "def delivery_report(err, msg):\n",
    "    if err:\n",
    "        print('Message delivery failed: {}'.format(err))"
   ]
  },
  {
   "cell_type": "markdown",
   "id": "9181f91b",
   "metadata": {},
   "source": [
    "## Producer"
   ]
  },
  {
   "cell_type": "code",
   "execution_count": 46,
   "id": "46183cdf",
   "metadata": {},
   "outputs": [],
   "source": [
    "p = SerializingProducer(PRODUCER_CONFIG)"
   ]
  },
  {
   "cell_type": "code",
   "execution_count": 42,
   "id": "fd849c8f",
   "metadata": {},
   "outputs": [],
   "source": [
    "#2023-10-13T08:16:13Z\n",
    "def construct_stock(row):\n",
    "    time_stamp = time.time()\n",
    "    date_time = datetime.fromtimestamp(time_stamp)\n",
    "    str_date_time = date_time.strftime(\"%Y-%m-%dT%H:%M:%SZ\") #\"%d-%m-%Y, %H:%M:%S\"\n",
    "    stock = {\"TODO\": row[6],\n",
    "            #  \"TODO\": float(row[2]),\n",
    "            \"TODO\": row[2],\n",
    "             \"timestamp\":str_date_time\n",
    "             }\n",
    "    return stock"
   ]
  },
  {
   "cell_type": "code",
   "execution_count": 50,
   "id": "06e266f9",
   "metadata": {},
   "outputs": [
    {
     "name": "stdout",
     "output_type": "stream",
     "text": [
      "Produced 0 messages\n",
      "Produced 50 messages\n",
      "Produced 100 messages\n",
      "Produced 150 messages\n",
      "Produced 200 messages\n",
      "Produced 250 messages\n",
      "Produced 300 messages\n",
      "Produced 350 messages\n",
      "Produced 400 messages\n",
      "Produced 450 messages\n",
      "Produced 500 messages\n",
      "Produced 550 messages\n",
      "Produced 600 messages\n",
      "Produced 650 messages\n",
      "Produced 700 messages\n",
      "Produced 750 messages\n",
      "Produced 800 messages\n",
      "Produced 850 messages\n",
      "Produced 900 messages\n",
      "Produced 950 messages\n",
      "Produced 1000 messages\n",
      "Produced 1050 messages\n",
      "Produced 1100 messages\n",
      "Produced 1150 messages\n",
      "Produced 1200 messages\n",
      "Produced 1250 messages\n",
      "Produced 1300 messages\n",
      "Produced 1350 messages\n",
      "Produced 1400 messages\n",
      "Produced 1450 messages\n",
      "Produced 1500 messages\n",
      "Produced 1550 messages\n",
      "Produced 1600 messages\n",
      "Produced 1650 messages\n",
      "Produced 1700 messages\n",
      "Produced 1750 messages\n",
      "Produced 1800 messages\n"
     ]
    }
   ],
   "source": [
    "n = 0\n",
    "with open(STOCKS_CSV) as csv_file:\n",
    "    csv_reader = csv.reader(csv_file, delimiter=',')\n",
    "    try:\n",
    "        for row in csv_reader:\n",
    "            # if n == 10:\n",
    "            #   break\n",
    "            stock = construct_stock(row)\n",
    "            if n % 50 == 0:\n",
    "               print(f\"Produced {n} messages\")\n",
    "            p.poll(0)\n",
    "            p.produce('stock', value=json.dumps(stock), on_delivery=delivery_report)            \n",
    "            time.sleep(0.5)\n",
    "            n = n + 1\n",
    "\n",
    "        p.flush()\n",
    "    except BufferError:\n",
    "        sys.stderr.write('%% Local producer queue is full (%d messages awaiting delivery): try again\\n' % len(p))\n",
    "    "
   ]
  },
  {
   "cell_type": "markdown",
   "id": "5d0a3766-7c7e-4792-8929-e92740f7aed7",
   "metadata": {},
   "source": [
    "### Cleanup"
   ]
  },
  {
   "cell_type": "code",
   "execution_count": 28,
   "id": "c449281e-8c82-4d8f-a9db-030d2dcdcf07",
   "metadata": {},
   "outputs": [
    {
     "data": {
      "text/plain": [
       "{'stock': <Future at 0x7fb2fb7c9c10 state=running>}"
      ]
     },
     "execution_count": 28,
     "metadata": {},
     "output_type": "execute_result"
    }
   ],
   "source": [
    "# admin_client = AdminClient({\"bootstrap.servers\":brokers})\n",
    "# admin_client.delete_topics(topics=['stock'])"
   ]
  }
 ],
 "metadata": {
  "kernelspec": {
   "display_name": "Python 3 (ipykernel)",
   "language": "python",
   "name": "python3"
  },
  "language_info": {
   "codemirror_mode": {
    "name": "ipython",
    "version": 3
   },
   "file_extension": ".py",
   "mimetype": "text/x-python",
   "name": "python",
   "nbconvert_exporter": "python",
   "pygments_lexer": "ipython3",
   "version": "3.11.9"
  }
 },
 "nbformat": 4,
 "nbformat_minor": 5
}
