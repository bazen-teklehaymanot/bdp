{
 "cells": [
  {
   "cell_type": "markdown",
   "id": "afaa8b95",
   "metadata": {},
   "source": [
    "# Produce NY taxi trips to Kafka"
   ]
  },
  {
   "cell_type": "markdown",
   "id": "7a4a6187",
   "metadata": {},
   "source": [
    "## Setup"
   ]
  },
  {
   "cell_type": "code",
   "execution_count": 16,
   "id": "2e778584",
   "metadata": {},
   "outputs": [],
   "source": [
    "import os\n",
    "from confluent_kafka import SerializingProducer, DeserializingConsumer\n",
    "from confluent_kafka.serialization import StringSerializer, StringDeserializer\n",
    "from confluent_kafka.admin import AdminClient, NewTopic\n",
    "from uuid import uuid4\n",
    "import sys, random\n",
    "import csv, json\n",
    "import time\n",
    "from datetime import datetime "
   ]
  },
  {
   "cell_type": "code",
   "execution_count": 17,
   "id": "ef7871fb",
   "metadata": {},
   "outputs": [],
   "source": [
    "BOOTSTRAP_SERVERS = os.environ.get('BOOTSTRAP_SERVERS')\n",
    "assert BOOTSTRAP_SERVERS is not None, 'BOOTSTRAP_SERVERS must be set'\n",
    "\n",
    "\n",
    "TRIP_CSV = \"trip_data_12.csv\"\n",
    "FARE_CSV = \"trip_fare_12.csv\"\n",
    "\n",
    "assert os.path.exists(TRIP_CSV), f'{TRIP_CSV} file not found'\n",
    "assert os.path.exists(FARE_CSV), f'{FARE_CSV} file not found'\n",
    "\n",
    "TRIP_BRONZE_TOPIC = 'trips_bronze'\n",
    "FARE_BRONZE_TOPIC = 'fares_bronze'\n",
    "\n",
    "PRODUCER_CONFIG = {\n",
    "    'bootstrap.servers': BOOTSTRAP_SERVERS,\n",
    "    'partitioner': 'murmur2_random',\n",
    "    'key.serializer': StringSerializer('utf_8'),\n",
    "    'value.serializer':  StringSerializer('utf_8')\n",
    "}"
   ]
  },
  {
   "cell_type": "markdown",
   "id": "53e42710",
   "metadata": {},
   "source": [
    "## Utility functions"
   ]
  },
  {
   "cell_type": "code",
   "execution_count": 33,
   "id": "f78da948",
   "metadata": {},
   "outputs": [],
   "source": [
    "def get_topics():\n",
    "    global BOOTSTRAP_SERVERS\n",
    "\n",
    "    kafka_broker = {\"bootstrap.servers\": BOOTSTRAP_SERVERS}\n",
    "    admin_client = AdminClient(kafka_broker)\n",
    "    return admin_client.list_topics().topics\n",
    "\n",
    "\n",
    "def delivery_report(err, msg):\n",
    "    if err:\n",
    "        print(\"Message delivery failed: {}\".format(err))\n",
    "\n",
    "\n",
    "def get_timestamp(before_secs=0, marker=None):\n",
    "    time_stamp = time.time() if marker is None else marker\n",
    "    time_stamp = time_stamp - before_secs\n",
    "    date_time = datetime.fromtimestamp(time_stamp)\n",
    "    return date_time.strftime(\"%Y-%m-%dT%H:%M:%SZ\")\n",
    "\n",
    "\n",
    "def convert_to_trip(row, include_timestamp=False):\n",
    "    trip = {\n",
    "        \"medallion\": row[0],\n",
    "        \"hack_license\": row[1],\n",
    "        \"vendor_id\": row[2],\n",
    "        \"rate_code\": row[3],\n",
    "        \"store_and_fwd_flag\": row[4],\n",
    "        \"pickup_datetime\": row[5],\n",
    "        \"dropoff_datetime\": row[6],\n",
    "        \"passenger_count\": row[7],\n",
    "        \"trip_time_in_secs\": row[8],\n",
    "        \"trip_distance\": row[9],\n",
    "        \"pickup_longitude\": row[10],\n",
    "        \"pickup_latitude\": row[11],\n",
    "        \"dropoff_longitude\": row[12],\n",
    "        \"dropoff_latitude\": row[13],\n",
    "    }\n",
    "\n",
    "    if include_timestamp:\n",
    "        trip[\"timestamp\"] = get_timestamp()\n",
    "\n",
    "    return trip\n",
    "\n",
    "\n",
    "def convert_to_fare(row, include_timestamp=False):\n",
    "    time_stamp = time.time()\n",
    "    date_time = datetime.fromtimestamp(time_stamp)\n",
    "    str_date_time = date_time.strftime(\"%Y-%m-%dT%H:%M:%SZ\")  # \"%d-%m-%Y, %H:%M:%S\"\n",
    "\n",
    "    fare = {\n",
    "        \"medallion\": row[0],\n",
    "        \"hack_license\": row[1],\n",
    "        \"vendor_id\": row[2],\n",
    "        \"pickup_datetime\": row[3],\n",
    "        \"payment_type\": row[4],\n",
    "        \"fare_amount\": row[5],\n",
    "        \"surcharge\": row[6],\n",
    "        \"mta_tax\": row[7],\n",
    "        \"tip_amount\": row[8],\n",
    "        \"tolls_amount\": row[9],\n",
    "        \"total_amount\": row[10],\n",
    "    }\n",
    "\n",
    "    if include_timestamp:\n",
    "        fare[\"timestamp\"] = str_date_time\n",
    "\n",
    "    return fare"
   ]
  },
  {
   "cell_type": "markdown",
   "id": "9181f91b",
   "metadata": {},
   "source": [
    "## Producer"
   ]
  },
  {
   "cell_type": "code",
   "execution_count": 19,
   "id": "b979c58e",
   "metadata": {},
   "outputs": [],
   "source": [
    "def num_rows(csv_path):\n",
    "    with open(csv_path) as f:\n",
    "        reader = csv.reader(f)\n",
    "        return sum(1 for _ in reader)"
   ]
  },
  {
   "cell_type": "code",
   "execution_count": 37,
   "id": "cd497964",
   "metadata": {},
   "outputs": [
    {
     "data": {
      "text/plain": [
       "(13971119, 13971119)"
      ]
     },
     "execution_count": 37,
     "metadata": {},
     "output_type": "execute_result"
    }
   ],
   "source": [
    "num_rows(TRIP_CSV), num_rows(FARE_CSV)"
   ]
  },
  {
   "cell_type": "code",
   "execution_count": 41,
   "id": "c1bc7b4d",
   "metadata": {},
   "outputs": [],
   "source": [
    "def produce_nyc_taxi_data(start_row=0, num_messages=2000_000):\n",
    "    \"\"\"\n",
    "    Produces messages to trip and fare topics\n",
    "    - start_from: int, starting row number\n",
    "    - num_messages: int, number of messages to produce\n",
    "    \"\"\"\n",
    "    global TRIP_CSV, FARE_CSV\n",
    "    global TRIP_BRONZE_TOPIC, FARE_BRONZE_TOPIC\n",
    "\n",
    "    producer = SerializingProducer(PRODUCER_CONFIG)\n",
    "    counter = start_row\n",
    "    limit = start_row + num_messages\n",
    "    marker_timestamp = time.time()\n",
    "\n",
    "    with open(TRIP_CSV) as f_trip:\n",
    "        trip_reader = csv.reader(f_trip)\n",
    "        with open(FARE_CSV) as f_fare:\n",
    "            fare_reader = csv.reader(f_fare)\n",
    "\n",
    "            # skip headers\n",
    "            next(trip_reader)\n",
    "            next(fare_reader)\n",
    "\n",
    "            while True:\n",
    "                try:\n",
    "                    trip_row = next(trip_reader)\n",
    "                    fare_row = next(fare_reader)\n",
    "\n",
    "                    before_secs = (limit - counter) * 7\n",
    "                    before_secs = max(1, before_secs)\n",
    "                    timestamp = get_timestamp(before_secs, marker_timestamp)\n",
    "\n",
    "                    trip = convert_to_trip(trip_row)\n",
    "                    trip['timestamp'] = timestamp\n",
    "                    \n",
    "                    fare = convert_to_fare(fare_row)\n",
    "                    fare['timestamp'] = timestamp\n",
    "\n",
    "                    producer.produce(TRIP_BRONZE_TOPIC, value=json.dumps(trip), on_delivery=delivery_report)\n",
    "                    producer.produce(FARE_BRONZE_TOPIC, value=json.dumps(fare), on_delivery=delivery_report)\n",
    "                    producer.poll(0)\n",
    "\n",
    "                    if counter % 1000 == 0:\n",
    "                        producer.flush()\n",
    "\n",
    "                    counter += 1\n",
    "                    if counter >= limit:\n",
    "                        break\n",
    "\n",
    "                except StopIteration:\n",
    "                    break\n",
    "    producer.flush()\n",
    "    print(f\"Produced {counter} messages\")"
   ]
  },
  {
   "cell_type": "code",
   "execution_count": null,
   "id": "dc8ee356",
   "metadata": {},
   "outputs": [
    {
     "ename": "",
     "evalue": "",
     "output_type": "error",
     "traceback": [
      "\u001b[1;31mThe Kernel crashed while executing code in the current cell or a previous cell. \n",
      "\u001b[1;31mPlease review the code in the cell(s) to identify a possible cause of the failure. \n",
      "\u001b[1;31mClick <a href='https://aka.ms/vscodeJupyterKernelCrash'>here</a> for more info. \n",
      "\u001b[1;31mView Jupyter <a href='command:jupyter.viewOutput'>log</a> for further details."
     ]
    }
   ],
   "source": [
    "produce_nyc_taxi_data()"
   ]
  },
  {
   "cell_type": "markdown",
   "id": "5d0a3766-7c7e-4792-8929-e92740f7aed7",
   "metadata": {},
   "source": [
    "### Cleanup"
   ]
  },
  {
   "cell_type": "code",
   "execution_count": null,
   "id": "c449281e-8c82-4d8f-a9db-030d2dcdcf07",
   "metadata": {},
   "outputs": [],
   "source": [
    "# admin_client = AdminClient({\"bootstrap.servers\":BOOTSTRAP_SERVERS})\n",
    "# admin_client.delete_topics(topics=[\"\"])"
   ]
  }
 ],
 "metadata": {
  "kernelspec": {
   "display_name": "Python 3 (ipykernel)",
   "language": "python",
   "name": "python3"
  },
  "language_info": {
   "codemirror_mode": {
    "name": "ipython",
    "version": 3
   },
   "file_extension": ".py",
   "mimetype": "text/x-python",
   "name": "python",
   "nbconvert_exporter": "python",
   "pygments_lexer": "ipython3",
   "version": "3.11.9"
  }
 },
 "nbformat": 4,
 "nbformat_minor": 5
}
