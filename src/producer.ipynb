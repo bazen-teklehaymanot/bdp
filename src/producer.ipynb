{
 "cells": [
  {
   "cell_type": "markdown",
   "id": "afaa8b95",
   "metadata": {},
   "source": [
    "# Produce NY taxi trips to Kafka"
   ]
  },
  {
   "cell_type": "markdown",
   "id": "7a4a6187",
   "metadata": {},
   "source": [
    "## Setup"
   ]
  },
  {
   "cell_type": "code",
   "execution_count": 22,
   "id": "2e778584",
   "metadata": {},
   "outputs": [],
   "source": [
    "import os\n",
    "from confluent_kafka import SerializingProducer, DeserializingConsumer\n",
    "from confluent_kafka.serialization import StringSerializer, StringDeserializer\n",
    "from confluent_kafka.admin import AdminClient, NewTopic\n",
    "from uuid import uuid4\n",
    "import sys, random\n",
    "import csv, json\n",
    "import time\n",
    "from datetime import datetime "
   ]
  },
  {
   "cell_type": "code",
   "execution_count": 23,
   "id": "ef7871fb",
   "metadata": {},
   "outputs": [],
   "source": [
    "BOOTSTRAP_SERVERS = os.environ.get('BOOTSTRAP_SERVERS')\n",
    "assert BOOTSTRAP_SERVERS is not None, 'BOOTSTRAP_SERVERS must be set'\n",
    "\n",
    "TRIP_CSV = \"sample.csv\"\n",
    "\n",
    "# TODO: Update this code such that\n",
    "# 1. It automatiaclly detects the csv file in given directory\n",
    "# 2. It reads the csv file and generates the json data\n",
    "# FARE_CSV = \"sample_fare.csv\"\n",
    "\n",
    "assert os.path.exists(TRIP_CSV), f'{TRIP_CSV} file not found'\n",
    "\n",
    "TRIP_TOPIC = 'trips'\n",
    "FARE_TOPIC = 'fares'\n",
    "\n",
    "PRODUCER_CONFIG = {\n",
    "    'bootstrap.servers': BOOTSTRAP_SERVERS,\n",
    "    'partitioner': 'murmur2_random',\n",
    "    'key.serializer': StringSerializer('utf_8'),\n",
    "    'value.serializer':  StringSerializer('utf_8')\n",
    "}"
   ]
  },
  {
   "cell_type": "markdown",
   "id": "53e42710",
   "metadata": {},
   "source": [
    "## Utility functions"
   ]
  },
  {
   "cell_type": "code",
   "execution_count": 24,
   "id": "f78da948",
   "metadata": {},
   "outputs": [],
   "source": [
    "def get_topics():\n",
    "    global BOOTSTRAP_SERVERS\n",
    "\n",
    "    kafka_broker = {'bootstrap.servers': BOOTSTRAP_SERVERS}\n",
    "    admin_client = AdminClient(kafka_broker)\n",
    "    return admin_client.list_topics().topics\n",
    "\n",
    "def delivery_report(err, msg):\n",
    "    if err:\n",
    "        print('Message delivery failed: {}'.format(err))\n",
    "\n",
    "def convert_to_trip(row):\n",
    "    \"\"\"\n",
    "    Converts row to a trip dictionary with the following keys\n",
    "    medallion, hack_license, vendor_id, rate_code, store_and_fwd_flag,\n",
    "    pickup_datetime, dropoff_datetime, passenger_count, trip_time_in_secs,\n",
    "    trip_distance, pickup_longitude, pickup_latitude, dropoff_longitude,\n",
    "    dropoff_latitude\n",
    "    \"\"\"\n",
    "\n",
    "    time_stamp = time.time()\n",
    "    date_time = datetime.fromtimestamp(time_stamp)\n",
    "    str_date_time = date_time.strftime(\"%Y-%m-%dT%H:%M:%SZ\") \n",
    "\n",
    "    trip = {\n",
    "        \"medallion\": row[0],\n",
    "        \"hack_license\": row[1],\n",
    "        \"vendor_id\": row[2],\n",
    "        \"rate_code\": row[3],\n",
    "        \"store_and_fwd_flag\": row[4],\n",
    "        \"pickup_datetime\": row[5],\n",
    "        \"dropoff_datetime\": row[6],\n",
    "        \"passenger_count\": row[7],\n",
    "        \"trip_time_in_secs\": row[8],\n",
    "        \"trip_distance\": row[9],\n",
    "        \"pickup_longitude\": row[10],\n",
    "        \"pickup_latitude\": row[11],\n",
    "        \"dropoff_longitude\": row[12],\n",
    "        \"dropoff_latitude\": row[13],\n",
    "        \"timestamp\": str_date_time,\n",
    "    }\n",
    "\n",
    "    return trip\n",
    "\n",
    "def convert_to_fare(row):\n",
    "    \"\"\"\n",
    "    Converts row to a trip fare dictionary with the following keys\n",
    "    medallion, hack_license, vendor_id,\n",
    "    pickup_datetime, payment_type, fare_amount,\n",
    "    surcharge, mta_tax, tip_amount, tolls_amount, total_amount\n",
    "    \"\"\"\n",
    "    time_stamp = time.time()\n",
    "    date_time = datetime.fromtimestamp(time_stamp)\n",
    "    str_date_time = date_time.strftime(\"%Y-%m-%dT%H:%M:%SZ\")  # \"%d-%m-%Y, %H:%M:%S\"\n",
    "\n",
    "    fare = {\n",
    "        \"medallion\": row[0],\n",
    "        \"hack_license\": row[1],\n",
    "        \"vendor_id\": row[2],\n",
    "        \"pickup_datetime\": row[3],\n",
    "        \"payment_type\": row[4],\n",
    "        \"fare_amount\": row[5],\n",
    "        \"surcharge\": row[6],\n",
    "        \"mta_tax\": row[7],\n",
    "        \"tip_amount\": row[8],\n",
    "        \"tolls_amount\": row[9],\n",
    "        \"total_amount\": row[10],\n",
    "        \"timestamp\": str_date_time,\n",
    "    }\n",
    "\n",
    "    return fare"
   ]
  },
  {
   "cell_type": "markdown",
   "id": "9181f91b",
   "metadata": {},
   "source": [
    "## Producer"
   ]
  },
  {
   "cell_type": "code",
   "execution_count": 25,
   "id": "b979c58e",
   "metadata": {},
   "outputs": [
    {
     "data": {
      "text/plain": [
       "{'test-topic': TopicMetadata(test-topic, 1 partitions),\n",
       " 'trips': TopicMetadata(trips, 1 partitions),\n",
       " 'stock': TopicMetadata(stock, 1 partitions),\n",
       " 'anotherone': TopicMetadata(anotherone, 1 partitions)}"
      ]
     },
     "execution_count": 25,
     "metadata": {},
     "output_type": "execute_result"
    }
   ],
   "source": [
    "get_topics()"
   ]
  },
  {
   "cell_type": "code",
   "execution_count": 29,
   "id": "06e266f9",
   "metadata": {},
   "outputs": [],
   "source": [
    "def produce_trips(trip_csv,producer_config, topic,limit=-1, header=True):\n",
    "    n = 0\n",
    "    p = SerializingProducer(producer_config)\n",
    "    with open(trip_csv) as csv_file:\n",
    "        csv_reader = csv.reader(csv_file, delimiter=',')\n",
    "        if header:\n",
    "            next(csv_reader)\n",
    "        try:\n",
    "            for row in csv_reader:\n",
    "                if n == limit:\n",
    "                    break\n",
    "                trip = convert_to_trip(row)\n",
    "                if n % 100 == 0:\n",
    "                    print(f\"Produced {n} messages\")\n",
    "                p.poll(0)\n",
    "                p.produce(topic, value=json.dumps(trip), on_delivery=delivery_report)            \n",
    "                time.sleep(0.5)\n",
    "                n = n + 1\n",
    "\n",
    "            p.flush()\n",
    "        except BufferError:\n",
    "            sys.stderr.write('%% Local producer queue is full (%d messages awaiting delivery): try again\\n' % len(p))\n",
    "    "
   ]
  },
  {
   "cell_type": "code",
   "execution_count": null,
   "id": "85012c6a",
   "metadata": {},
   "outputs": [],
   "source": [
    "produce_trips(TRIP_CSV,PRODUCER_CONFIG,TRIP_TOPIC,limit=10_000)"
   ]
  },
  {
   "cell_type": "markdown",
   "id": "5d0a3766-7c7e-4792-8929-e92740f7aed7",
   "metadata": {},
   "source": [
    "### Cleanup"
   ]
  },
  {
   "cell_type": "code",
   "execution_count": null,
   "id": "c449281e-8c82-4d8f-a9db-030d2dcdcf07",
   "metadata": {},
   "outputs": [],
   "source": [
    "# admin_client = AdminClient({\"bootstrap.servers\":BOOTSTRAP_SERVERS})\n",
    "# admin_client.delete_topics(topics=[TRIP_TOPIC])"
   ]
  }
 ],
 "metadata": {
  "kernelspec": {
   "display_name": "Python 3 (ipykernel)",
   "language": "python",
   "name": "python3"
  }
 },
 "nbformat": 4,
 "nbformat_minor": 5
}
