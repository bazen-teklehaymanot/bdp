{
 "cells": [
  {
   "cell_type": "markdown",
   "id": "6565e3f8",
   "metadata": {},
   "source": [
    "# Analyzing New York City Taxi Data with Spark Structured Streaming"
   ]
  },
  {
   "cell_type": "markdown",
   "id": "983cb494",
   "metadata": {},
   "source": [
    "## Setup"
   ]
  },
  {
   "cell_type": "code",
   "execution_count": 56,
   "id": "55974225",
   "metadata": {},
   "outputs": [],
   "source": [
    "import os\n",
    "from delta import configure_spark_with_delta_pip\n",
    "\n",
    "import time\n",
    "import uuid\n",
    "from pyspark.sql.functions import explode, lead, col, unix_timestamp, sum\n",
    "from pyspark.sql.functions import split\n",
    "import pyspark.sql.functions as F\n",
    "from pyspark.context import SparkContext\n",
    "from pyspark.conf import SparkConf\n",
    "from pyspark.sql.session import SparkSession\n",
    "from pyspark.sql.functions import col\n",
    "from pyspark.sql.types import StructType, StructField, StringType, IntegerType, DoubleType, BooleanType, TimestampType, DateType"
   ]
  },
  {
   "cell_type": "code",
   "execution_count": 18,
   "id": "3aea8df5",
   "metadata": {},
   "outputs": [],
   "source": [
    "builder = SparkSession.builder.appName(\"NYTaxiTrips\") \\\n",
    "    .config(\"spark.sql.extensions\", \"io.delta.sql.DeltaSparkSessionExtension\") \\\n",
    "    .config(\"spark.sql.catalog.spark_catalog\", \"org.apache.spark.sql.delta.catalog.DeltaCatalog\")\n",
    "\n",
    "spark = configure_spark_with_delta_pip(builder).getOrCreate()"
   ]
  },
  {
   "cell_type": "code",
   "execution_count": 19,
   "id": "acb58cdf",
   "metadata": {},
   "outputs": [],
   "source": [
    "BOOTSTRAP_SERVERS = os.environ.get('BOOTSTRAP_SERVERS')\n",
    "assert BOOTSTRAP_SERVERS is not None, 'BOOTSTRAP_SERVERS must be set'\n",
    "\n",
    "TRIP_TOPIC = 'trips'\n",
    "FARE_TOPIC = 'fares'"
   ]
  },
  {
   "cell_type": "markdown",
   "id": "a35005b8",
   "metadata": {},
   "source": [
    "Be sure to start the stream on Kafka!"
   ]
  },
  {
   "cell_type": "code",
   "execution_count": 88,
   "id": "4e622d5b-ef4d-4d78-abcb-e9edc2305ac8",
   "metadata": {},
   "outputs": [],
   "source": [
    "plain_trip_schema = StructType(\n",
    "    [\n",
    "        StructField(\"medallion\", StringType(), False),\n",
    "        StructField(\"hack_license\", StringType(), False),\n",
    "        StructField(\"vendor_id\", StringType(), False),\n",
    "        StructField(\"rate_code\", StringType(), False),\n",
    "        StructField(\"store_and_fwd_flag\", StringType(), False),\n",
    "        StructField(\"pickup_datetime\", TimestampType(), False),\n",
    "        StructField(\"dropoff_datetime\", TimestampType(), False),\n",
    "        StructField(\"passenger_count\", StringType(), False),\n",
    "        StructField(\"trip_time_in_secs\", StringType(), False),\n",
    "        StructField(\"trip_distance\", StringType(), False),\n",
    "        StructField(\"pickup_longitude\", StringType(), False),\n",
    "        StructField(\"pickup_latitude\", StringType(), False),\n",
    "        StructField(\"dropoff_longitude\", StringType(), False),\n",
    "        StructField(\"dropoff_latitude\", StringType(), False),\n",
    "        StructField(\"timestamp\", TimestampType(), False),\n",
    "    ]\n",
    ")\n",
    "\n",
    "casted_trip_schema = StructType(\n",
    "    [\n",
    "        StructField(\"medallion\", StringType(), False),\n",
    "        StructField(\"hack_license\", StringType(), False),\n",
    "        StructField(\"vendor_id\", StringType(), False),\n",
    "        StructField(\"rate_code\", IntegerType(), False),\n",
    "        StructField(\"store_and_fwd_flag\", StringType(), False),\n",
    "        StructField(\"pickup_datetime\", TimestampType(), False),\n",
    "        StructField(\"dropoff_datetime\", TimestampType(), False),\n",
    "        StructField(\"passenger_count\", IntegerType(), False),\n",
    "        StructField(\"trip_time_in_secs\", DoubleType(), False),\n",
    "        StructField(\"trip_distance\", DoubleType(), False),\n",
    "        StructField(\"pickup_longitude\", DoubleType(), False),\n",
    "        StructField(\"pickup_latitude\", DoubleType(), False),\n",
    "        StructField(\"dropoff_longitude\", DoubleType(), False),\n",
    "        StructField(\"dropoff_latitude\", DoubleType(), False),\n",
    "        StructField(\"timestamp\", TimestampType(), False),\n",
    "\n",
    "    ]\n",
    ")\n",
    "\n",
    "fare_schema = StructType(\n",
    "    [\n",
    "        StructField(\"medallion\", StringType(), False),\n",
    "        StructField(\"hack_license\", StringType(), False),\n",
    "        StructField(\"vendor_id\", StringType(), False),\n",
    "        StructField(\"pickup_datetime\", TimestampType(), False),\n",
    "        StructField(\"payment_type\", StringType(), False),\n",
    "        StructField(\"fare_amount\", DoubleType(), False),\n",
    "        StructField(\"surcharge\", DoubleType(), False),\n",
    "        StructField(\"mta_tax\", DoubleType(), False),\n",
    "        StructField(\"tip_amount\", DoubleType(), False),\n",
    "        StructField(\"tolls_amount\", DoubleType(), False),\n",
    "        StructField(\"total_amount\", DoubleType(), False),\n",
    "        StructField(\"timestamp\", TimestampType(), False),\n",
    "\n",
    "    ]\n",
    ")"
   ]
  },
  {
   "cell_type": "code",
   "execution_count": 89,
   "id": "69712d38",
   "metadata": {},
   "outputs": [],
   "source": [
    "from pyspark.sql.functions import from_json\n",
    "\n",
    "lines = (spark.readStream                        # Get the DataStreamReader\n",
    "  .format(\"kafka\")                                 # Specify the source format as \"kafka\"\n",
    "  .option(\"kafka.bootstrap.servers\", BOOTSTRAP_SERVERS) # Configure the Kafka server name and port\n",
    "  .option(\"subscribe\", TRIP_TOPIC)                       # Subscribe to the \"en\" Kafka topic \n",
    "  .option(\"startingOffsets\", \"earliest\")           # The start point when a query is started\n",
    "  .option(\"maxOffsetsPerTrigger\", 100)             # Rate limit on max offsets per trigger interval\n",
    "  .load()\n",
    ")"
   ]
  },
  {
   "cell_type": "markdown",
   "id": "832dd5ee",
   "metadata": {},
   "source": [
    "## Utils"
   ]
  },
  {
   "cell_type": "code",
   "execution_count": 97,
   "id": "aac24999",
   "metadata": {},
   "outputs": [],
   "source": [
    "def active_streams():\n",
    "    return [a.name for a in spark.streams.active]\n",
    "\n",
    "\n",
    "def stop_stream(name):\n",
    "    for stream in spark.streams.active:\n",
    "        if stream.name == name:\n",
    "            stream.stop()\n",
    "            return True\n",
    "    return False\n",
    "\n",
    "\n",
    "def inmemory_stream(df, wait_seconds=5):\n",
    "    temp_table_name = f\"inmemory_{uuid.uuid4().hex}\"\n",
    "\n",
    "    query = (\n",
    "        df.writeStream.outputMode(\"append\")\n",
    "        .format(\"memory\")\n",
    "        .queryName(temp_table_name)\n",
    "        .start()\n",
    "    )\n",
    "\n",
    "    time.sleep(wait_seconds)\n",
    "    result = spark.sql(f\"SELECT * FROM {temp_table_name}\")\n",
    "    stop_stream(query.name)\n",
    "    return result"
   ]
  },
  {
   "cell_type": "markdown",
   "id": "74a46c68-44ab-4e3a-90fb-d334423e4acc",
   "metadata": {},
   "source": [
    "## Tasks"
   ]
  },
  {
   "cell_type": "markdown",
   "id": "c24187ef-e5b4-4fa7-bab5-60aa94412a05",
   "metadata": {},
   "source": [
    "### QUERY-1\n",
    "\n",
    "Utilization over a window of 5, 10, and 15 minutes per taxi/driver. This can be computed by computing the idle time per taxi. How does it change? Is there an optimal window?"
   ]
  },
  {
   "cell_type": "code",
   "execution_count": 103,
   "id": "44115330",
   "metadata": {},
   "outputs": [
    {
     "data": {
      "text/plain": [
       "(StringType(), 'medallion')"
      ]
     },
     "execution_count": 103,
     "metadata": {},
     "output_type": "execute_result"
    }
   ],
   "source": [
    "casted_trip_schema.fields[0].dataType, casted_trip_schema.fields[0].name"
   ]
  },
  {
   "cell_type": "code",
   "execution_count": 104,
   "id": "65b2d7ed",
   "metadata": {
    "scrolled": true
   },
   "outputs": [
    {
     "name": "stdout",
     "output_type": "stream",
     "text": [
      "root\n",
      " |-- medallion: string (nullable = true)\n",
      " |-- hack_license: string (nullable = true)\n",
      " |-- vendor_id: string (nullable = true)\n",
      " |-- rate_code: integer (nullable = true)\n",
      " |-- store_and_fwd_flag: string (nullable = true)\n",
      " |-- pickup_datetime: timestamp (nullable = true)\n",
      " |-- dropoff_datetime: timestamp (nullable = true)\n",
      " |-- passenger_count: integer (nullable = true)\n",
      " |-- trip_time_in_secs: double (nullable = true)\n",
      " |-- trip_distance: double (nullable = true)\n",
      " |-- pickup_longitude: double (nullable = true)\n",
      " |-- pickup_latitude: double (nullable = true)\n",
      " |-- dropoff_longitude: double (nullable = true)\n",
      " |-- dropoff_latitude: double (nullable = true)\n",
      " |-- timestamp: timestamp (nullable = true)\n",
      "\n"
     ]
    }
   ],
   "source": [
    "trips_df = lines.select(from_json(col(\"value\").cast(\"string\"), plain_trip_schema).alias(\"parsed_value\"))\n",
    "trips_df = trips_df.select(\"parsed_value.*\")\n",
    "\n",
    "for field in casted_trip_schema.fields:\n",
    "    trips_df = trips_df.withColumn(field.name, col(field.name).cast(field.dataType))\n",
    "\n",
    "trips_df.printSchema()"
   ]
  },
  {
   "cell_type": "code",
   "execution_count": 110,
   "id": "37aeae09",
   "metadata": {},
   "outputs": [
    {
     "name": "stdout",
     "output_type": "stream",
     "text": [
      "+---------+------+---------+---------+-----------+\n",
      "|medallion|window|busy_time|idle_time|utilization|\n",
      "+---------+------+---------+---------+-----------+\n",
      "+---------+------+---------+---------+-----------+\n",
      "\n",
      "+---------+------+---------+---------+-----------+\n",
      "|medallion|window|busy_time|idle_time|utilization|\n",
      "+---------+------+---------+---------+-----------+\n",
      "+---------+------+---------+---------+-----------+\n",
      "\n",
      "+---------+------+---------+---------+-----------+\n",
      "|medallion|window|busy_time|idle_time|utilization|\n",
      "+---------+------+---------+---------+-----------+\n",
      "+---------+------+---------+---------+-----------+\n",
      "\n"
     ]
    }
   ],
   "source": [
    "from pyspark.sql.functions import window, col, max, min\n",
    "\n",
    "window_durations = [5 * 60, 10 * 60, 15 * 60]\n",
    "\n",
    "for window_duration in window_durations:\n",
    "    window_col = window(\"pickup_datetime\", \"{} seconds\".format(window_duration))\n",
    "    df_windowed = trips_df.groupBy(\"medallion\", window_col).agg((max(\"dropoff_datetime\").cast(\"long\") - min(\"pickup_datetime\").cast(\"long\")).alias(\"busy_time\"))\n",
    "    \n",
    "    df_windowed = df_windowed.withColumn(\"idle_time\", window_duration - col(\"busy_time\"))\n",
    "    \n",
    "    df_windowed = df_windowed.withColumn(\"utilization\", col(\"busy_time\") / window_duration)\n",
    "    \n",
    "    query = (df_windowed.writeStream\n",
    "      .outputMode(\"complete\")\n",
    "      .format(\"memory\")\n",
    "      .queryName(\"utilization_{}_minutes\".format(window_duration // 60))\n",
    "      .trigger(processingTime=\"5 second\")\n",
    "      .start())\n",
    "\n",
    "spark.sql(\"SELECT * FROM utilization_5_minutes\").show()\n",
    "spark.sql(\"SELECT * FROM utilization_10_minutes\").show()\n",
    "spark.sql(\"SELECT * FROM utilization_15_minutes\").show()"
   ]
  },
  {
   "cell_type": "markdown",
   "id": "6746caef-fc7c-4d0e-98df-cdd6046393eb",
   "metadata": {},
   "source": [
    "### QUERY-2 \n",
    "\n",
    "The average time it takes for a taxi to find its next fare(trip) per destination borough. This can be computed by finding the time difference, e.g. in seconds, between the trip's drop off and the next trip's pick up within a given unit of time"
   ]
  },
  {
   "cell_type": "code",
   "execution_count": null,
   "id": "6bea404b-fc76-48f9-83d9-5946617863de",
   "metadata": {},
   "outputs": [],
   "source": [
    "# remember you can register another stream\n"
   ]
  },
  {
   "cell_type": "markdown",
   "id": "8268c285-d55c-4be3-8e5a-e7ddebb14153",
   "metadata": {},
   "source": [
    "### QUERY-3\n",
    "\n",
    "The number of trips that started and ended within the same borough in the last hour"
   ]
  },
  {
   "cell_type": "code",
   "execution_count": null,
   "id": "b7e7ad21-59c2-4d4c-befe-9d1ceedbb74d",
   "metadata": {},
   "outputs": [],
   "source": [
    "# remember you can register another stream\n"
   ]
  },
  {
   "cell_type": "markdown",
   "id": "41d0d685-c3ed-4b7d-8ebc-c3174ba55645",
   "metadata": {},
   "source": [
    "### QUERY-4 \n",
    "\n",
    "The number of trips that started in one borough and ended in another one in the last hour"
   ]
  },
  {
   "cell_type": "code",
   "execution_count": null,
   "id": "f1f3578b-1960-4969-801b-adc2f45493a9",
   "metadata": {},
   "outputs": [],
   "source": []
  }
 ],
 "metadata": {
  "kernelspec": {
   "display_name": "Python 3 (ipykernel)",
   "language": "python",
   "name": "python3"
  },
  "language_info": {
   "codemirror_mode": {
    "name": "ipython",
    "version": 3
   },
   "file_extension": ".py",
   "mimetype": "text/x-python",
   "name": "python",
   "nbconvert_exporter": "python",
   "pygments_lexer": "ipython3",
   "version": "3.11.9"
  }
 },
 "nbformat": 4,
 "nbformat_minor": 5
}
